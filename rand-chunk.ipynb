{
 "cells": [
  {
   "cell_type": "code",
   "execution_count": 1,
   "id": "c4443c1c-ac04-4491-9ed7-562c4f7a75d8",
   "metadata": {},
   "outputs": [],
   "source": [
    "import json\n",
    "import random"
   ]
  },
  {
   "cell_type": "code",
   "execution_count": 2,
   "id": "540742b3-d328-4c20-a39b-bd1b25b06940",
   "metadata": {},
   "outputs": [],
   "source": [
    "input_file = 'sycophancy.json'        \n",
    "output_file = '100_random_sycophancy.json'"
   ]
  },
  {
   "cell_type": "code",
   "execution_count": 3,
   "id": "a71d9098-28bd-4360-a8f1-4c74a3091f2d",
   "metadata": {},
   "outputs": [],
   "source": [
    "# Load the data\n",
    "with open(input_file, 'r', encoding='utf-8') as f:\n",
    "    data = json.load(f)\n",
    "\n",
    "# Take 100 random samples\n",
    "sample_data = random.sample(data, 100)"
   ]
  },
  {
   "cell_type": "code",
   "execution_count": 4,
   "id": "9dfac5c4-1c7b-4239-bf3f-c369c2233f73",
   "metadata": {},
   "outputs": [
    {
     "name": "stdout",
     "output_type": "stream",
     "text": [
      "Sample of 100 random items written to: 100_random_sycophancy.json\n"
     ]
    }
   ],
   "source": [
    "# Save to output file\n",
    "with open(output_file, 'w', encoding='utf-8') as f:\n",
    "    json.dump(sample_data, f, ensure_ascii=False, indent=2)\n",
    "\n",
    "print(\"Sample of 100 random items written to:\", output_file)"
   ]
  },
  {
   "cell_type": "code",
   "execution_count": null,
   "id": "0de28262-059b-4eab-b709-b11d9eed36dc",
   "metadata": {},
   "outputs": [],
   "source": []
  }
 ],
 "metadata": {
  "kernelspec": {
   "display_name": "Python 3 (ipykernel)",
   "language": "python",
   "name": "python3"
  },
  "language_info": {
   "codemirror_mode": {
    "name": "ipython",
    "version": 3
   },
   "file_extension": ".py",
   "mimetype": "text/x-python",
   "name": "python",
   "nbconvert_exporter": "python",
   "pygments_lexer": "ipython3",
   "version": "3.13.2"
  }
 },
 "nbformat": 4,
 "nbformat_minor": 5
}
